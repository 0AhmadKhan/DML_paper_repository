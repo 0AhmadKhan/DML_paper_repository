{
 "cells": [
  {
   "cell_type": "markdown",
   "metadata": {},
   "source": [
    "# Imports"
   ]
  },
  {
   "cell_type": "code",
   "execution_count": 1,
   "metadata": {},
   "outputs": [],
   "source": [
    "from pathlib import Path\n",
    "import numpy as np\n",
    "import pandas as pd\n",
    "import warnings\n",
    "\n",
    "from sim_8_functions import *\n",
    "from sim_8_thetas_linear import *\n",
    "from sim_8_thetas_non_linear import *\n",
    "from sim_8_plot import *\n",
    "from sim_8_data_generator import *\n",
    "\n",
    "warnings.filterwarnings(\"ignore\")"
   ]
  },
  {
   "cell_type": "code",
   "execution_count": 2,
   "metadata": {},
   "outputs": [],
   "source": [
    "n_trials = 1000"
   ]
  },
  {
   "cell_type": "markdown",
   "metadata": {},
   "source": [
    "# Linear thetas"
   ]
  },
  {
   "cell_type": "code",
   "execution_count": 3,
   "metadata": {},
   "outputs": [],
   "source": [
    "theta_hat_estimates_linear   = []\n",
    "theta_check_estimates_linear = []\n",
    "theta_tilde_estimates_linear = []\n",
    "theta_breve_estimates_linear = []\n",
    "\n",
    "\n",
    "for trial in range(n_trials):\n",
    "\n",
    "    # generating data\n",
    "    X, D, Y, g_X, m_X, U, V = generate_data_linear()\n",
    "\n",
    "    theta_hat = generate_theta_hat_linear(X, D, Y, g_X, m_X, U, V)\n",
    "    theta_hat_estimates_linear.append(theta_hat)\n",
    "\n",
    "    theta_check = generate_theta_check_linear(X, D, Y, g_X, m_X, U, V)\n",
    "    theta_check_estimates_linear.append(theta_check)\n",
    "\n",
    "\n",
    "theta_hat_array   = np.array(theta_hat_estimates_linear  )\n",
    "theta_check_array = np.array(theta_check_estimates_linear)\n",
    "\n",
    "data = {\n",
    "\"Theta_Hat\": theta_hat_array,\n",
    "\"Theta_Check\": theta_check_array,\n",
    "}\n",
    "\n",
    "raw_data = pd.DataFrame(data)\n"
   ]
  },
  {
   "cell_type": "code",
   "execution_count": 4,
   "metadata": {},
   "outputs": [],
   "source": [
    "top_heading = \"Using Linear Regression\"\n",
    "fig = generate_plots(raw_data, top_heading)\n",
    "\n",
    "# ==================================================================================\n",
    "# Save linear plot\n",
    "# ==================================================================================\n",
    "BLD = Path(\"bld7_1\")\n",
    "if not BLD.exists():\n",
    "    BLD.mkdir()\n",
    "# data.to_pickle(BLD / \"results.pkl\")\n",
    "# fig.write_image(BLD / \"bias.png\")\n",
    "fig.savefig(BLD / \"linear_scaled_good.png\")\n",
    "plt.close(fig)"
   ]
  },
  {
   "cell_type": "code",
   "execution_count": null,
   "metadata": {},
   "outputs": [],
   "source": []
  },
  {
   "cell_type": "code",
   "execution_count": null,
   "metadata": {},
   "outputs": [],
   "source": []
  },
  {
   "cell_type": "markdown",
   "metadata": {},
   "source": [
    "# Non-Linear in g(X) and m(X) thetas"
   ]
  },
  {
   "cell_type": "code",
   "execution_count": 5,
   "metadata": {},
   "outputs": [],
   "source": [
    "theta_hat_estimates_non_linear_gxmx   = []\n",
    "theta_check_estimates_non_linear_gxmx = []\n",
    "\n",
    "\n",
    "for trial in range(n_trials):\n",
    "\n",
    "    # generating data\n",
    "    X, D, Y, g_X, m_X, U, V = generate_data_non_linear_gxmx()\n",
    "\n",
    "    theta_hat = generate_theta_hat_non_linear(X, D, Y, g_X, m_X, U, V, trial)\n",
    "    theta_hat_estimates_non_linear_gxmx.append(theta_hat)\n",
    "\n",
    "    theta_check = generate_theta_check_non_linear(X, D, Y, g_X, m_X, U, V, trial)\n",
    "    theta_check_estimates_non_linear_gxmx.append(theta_check)\n",
    "\n",
    "theta_hat_array   = np.array(theta_hat_estimates_non_linear_gxmx  )\n",
    "theta_check_array = np.array(theta_check_estimates_non_linear_gxmx)\n",
    "\n",
    "data = {\n",
    "\"Theta_Hat\": theta_hat_array,\n",
    "\"Theta_Check\": theta_check_array,\n",
    "}\n",
    "\n",
    "raw_data = pd.DataFrame(data)\n"
   ]
  },
  {
   "cell_type": "code",
   "execution_count": 6,
   "metadata": {},
   "outputs": [],
   "source": [
    "top_heading = \"Using ML (Random forest)\"\n",
    "fig = generate_plots(raw_data, top_heading)\n",
    "\n",
    "# ==================================================================================\n",
    "# Save linear plot\n",
    "# ==================================================================================\n",
    "BLD = Path(\"bld8_1\")\n",
    "if not BLD.exists():\n",
    "    BLD.mkdir()\n",
    "# data.to_pickle(BLD / \"results.pkl\")\n",
    "# fig.write_image(BLD / \"bias.png\")\n",
    "plt.savefig(BLD / \"non_linear_gxmx_scaled.png\")\n",
    "plt.close()"
   ]
  },
  {
   "cell_type": "code",
   "execution_count": null,
   "metadata": {},
   "outputs": [],
   "source": []
  },
  {
   "cell_type": "code",
   "execution_count": null,
   "metadata": {},
   "outputs": [],
   "source": []
  },
  {
   "cell_type": "code",
   "execution_count": null,
   "metadata": {},
   "outputs": [],
   "source": []
  }
 ],
 "metadata": {
  "kernelspec": {
   "display_name": "RM_env",
   "language": "python",
   "name": "python3"
  },
  "language_info": {
   "codemirror_mode": {
    "name": "ipython",
    "version": 3
   },
   "file_extension": ".py",
   "mimetype": "text/x-python",
   "name": "python",
   "nbconvert_exporter": "python",
   "pygments_lexer": "ipython3",
   "version": "3.11.0"
  }
 },
 "nbformat": 4,
 "nbformat_minor": 2
}
