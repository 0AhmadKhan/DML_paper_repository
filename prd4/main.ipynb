{
 "cells": [
  {
   "cell_type": "markdown",
   "metadata": {},
   "source": [
    "# Imports"
   ]
  },
  {
   "cell_type": "code",
   "execution_count": 9,
   "metadata": {},
   "outputs": [],
   "source": [
    "from pathlib import Path\n",
    "import numpy as np\n",
    "import pandas as pd\n",
    "import warnings\n",
    "\n",
    "from functions import *\n",
    "from thetas_linear import *\n",
    "from thetas_non_linear import *\n",
    "from plot import *\n",
    "from data_generator_sparsity import *\n",
    "\n",
    "warnings.filterwarnings(\"ignore\")"
   ]
  },
  {
   "cell_type": "code",
   "execution_count": 10,
   "metadata": {},
   "outputs": [],
   "source": [
    "n_trials = 1000"
   ]
  },
  {
   "cell_type": "code",
   "execution_count": null,
   "metadata": {},
   "outputs": [],
   "source": []
  },
  {
   "cell_type": "code",
   "execution_count": null,
   "metadata": {},
   "outputs": [],
   "source": []
  },
  {
   "cell_type": "markdown",
   "metadata": {},
   "source": [
    "# Non-Linear in g(X) and m(X) thetas"
   ]
  },
  {
   "cell_type": "code",
   "execution_count": 11,
   "metadata": {},
   "outputs": [],
   "source": [
    "theta_hat_estimates_non_linear_gxmx   = []\n",
    "theta_check_estimates_non_linear_gxmx = []\n",
    "\n",
    "\n",
    "for trial in range(n_trials):\n",
    "\n",
    "    # generating data\n",
    "    X, D, Y, g_X, m_X, U, V = generate_data_non_linear_gxmx()\n",
    "\n",
    "    theta_hat = generate_theta_hat_non_linear(X, D, Y, g_X, m_X, U, V, trial)\n",
    "    theta_hat_estimates_non_linear_gxmx.append(theta_hat)\n",
    "\n",
    "    theta_check = generate_theta_check_non_linear(X, D, Y, g_X, m_X, U, V, trial)\n",
    "    theta_check_estimates_non_linear_gxmx.append(theta_check)\n",
    "\n",
    "theta_hat_array   = np.array(theta_hat_estimates_non_linear_gxmx  )\n",
    "theta_check_array = np.array(theta_check_estimates_non_linear_gxmx)\n",
    "\n",
    "data = {\n",
    "\"Theta_Hat\": theta_hat_array,\n",
    "\"Theta_Check\": theta_check_array,\n",
    "}\n",
    "\n",
    "raw_data = pd.DataFrame(data)\n"
   ]
  },
  {
   "cell_type": "code",
   "execution_count": 12,
   "metadata": {},
   "outputs": [],
   "source": [
    "top_heading = \"\"\n",
    "fig = generate_plots(raw_data, top_heading)\n",
    "\n",
    "# ==================================================================================\n",
    "# Save linear plot\n",
    "# ==================================================================================\n",
    "BLD = Path(\"bld1\")\n",
    "if not BLD.exists():\n",
    "    BLD.mkdir()\n",
    "# data.to_pickle(BLD / \"results.pkl\")\n",
    "# fig.write_image(BLD / \"bias.png\")\n",
    "plt.savefig(BLD / \"other_sim_sparsity.png\")\n",
    "plt.close()"
   ]
  },
  {
   "cell_type": "code",
   "execution_count": null,
   "metadata": {},
   "outputs": [],
   "source": []
  },
  {
   "cell_type": "code",
   "execution_count": null,
   "metadata": {},
   "outputs": [],
   "source": []
  },
  {
   "cell_type": "code",
   "execution_count": null,
   "metadata": {},
   "outputs": [],
   "source": []
  }
 ],
 "metadata": {
  "kernelspec": {
   "display_name": "RM_env",
   "language": "python",
   "name": "python3"
  },
  "language_info": {
   "codemirror_mode": {
    "name": "ipython",
    "version": 3
   },
   "file_extension": ".py",
   "mimetype": "text/x-python",
   "name": "python",
   "nbconvert_exporter": "python",
   "pygments_lexer": "ipython3",
   "version": "3.11.0"
  }
 },
 "nbformat": 4,
 "nbformat_minor": 2
}
